{
 "cells": [
  {
   "cell_type": "markdown",
   "id": "c2192ee0-3923-4a35-a7f6-a5ec66f7830a",
   "metadata": {},
   "source": [
    "## Kinetic Modeling of Repass Pathways for Prenol/Isoprenol production\n",
    "\n",
    "This work describes a reaction network in which two phosphatases, an isomerase, and a kinase generate C5 alcohols from either IP or IPP. The reaction network has 16 rate constants (Vm/Km) for 8 reactions, 4 substrates, and 2 products.\n",
    "\n",
    "### Inputs:\n",
    "- The user will be able to define whether they want to model the OriMVA-Repass or the IPP-Repass\n",
    "    - The difference is the initial condition of 10 arb. units of IPP or IP, respectively\n",
    "\n",
    "### Outputs:\n",
    "- Two .csvs of the pvalues and Spearman rank correlation coefficients of each paramter\n",
    "- Heatmaps of the pvalues and coefficients\n",
    "- An example plot of the model given input parameters provided"
   ]
  },
  {
   "cell_type": "markdown",
   "id": "8b54c4ae-0551-47c0-b092-b87207619007",
   "metadata": {
    "tags": []
   },
   "source": [
    "##### Import Libraries"
   ]
  },
  {
   "cell_type": "code",
   "execution_count": 1,
   "id": "c50add50-0d88-4847-9dd5-22b9f11b8ae2",
   "metadata": {
    "tags": []
   },
   "outputs": [],
   "source": [
    "from scipy.stats import qmc\n",
    "from scipy.integrate import odeint\n",
    "from scipy.stats import spearmanr\n",
    "import matplotlib.pylab as plt\n",
    "import chart_studio.plotly as py\n",
    "import numpy as np\n",
    "import seaborn as sns\n",
    "import pandas as pd\n",
    "import os\n",
    "import plotly.graph_objs as go\n",
    "from plotly import tools\n",
    "import array\n",
    "import warnings\n",
    "from textwrap import wrap\n",
    "from matplotlib.font_manager import FontProperties"
   ]
  },
  {
   "cell_type": "markdown",
   "id": "b2be4d92-f88f-49db-8e18-022e69795790",
   "metadata": {
    "tags": []
   },
   "source": [
    "##### Define Variables \n",
    "- Define upper and lower bounds for kinetic parameters\n",
    "- Define number of LHS iterations\n",
    "- Make readable for kinetic model"
   ]
  },
  {
   "cell_type": "code",
   "execution_count": 2,
   "id": "881432de-13b6-4da7-aeb2-a32b2c76d8f4",
   "metadata": {
    "tags": []
   },
   "outputs": [],
   "source": [
    "sampler = qmc.LatinHypercube(d=16)\n",
    "sample = sampler.random(n=10000)\n",
    "results_list=[]\n",
    "\n",
    "lb_kcat=0.1       #[s^-1]\n",
    "ub_kcat=100       #[s^-1]\n",
    "\n",
    "lb_km=0.1         #[M]\n",
    "ub_km=100         #[M]\n",
    "\n",
    "l_bounds=[lb_kcat]*8\n",
    "u_bounds=[ub_kcat]*8\n",
    "l_bounds_km=[lb_km]*8\n",
    "u_bounds_km=[ub_km]*8\n",
    "\n",
    "l_bounds.extend(l_bounds_km)\n",
    "u_bounds.extend(u_bounds_km)\n",
    "\n",
    "A=qmc.discrepancy(sample)\n",
    "B=qmc.scale(sample, l_bounds, u_bounds)\n",
    "LHS=np.transpose(B)\n",
    "num_iterations=LHS.shape[1]"
   ]
  },
  {
   "cell_type": "markdown",
   "id": "8073a177-d1f5-4315-9f4a-e614c97d565f",
   "metadata": {
    "tags": []
   },
   "source": [
    "### First-order kinetic model\n",
    "\n",
    "- Here the initial condition is set to 1 arb. unit of either IPP or IP depending on the selected pathy\n",
    "- Time set to 150 arb. unit with a sampling of n = 100\n",
    "    - Time and sampling may be changed, these were set because most simulations reach steady-state"
   ]
  },
  {
   "cell_type": "code",
   "execution_count": 3,
   "id": "c447395d-efe9-4069-a2ca-0b542993e43c",
   "metadata": {
    "tags": []
   },
   "outputs": [
    {
     "name": "stdout",
     "output_type": "stream",
     "text": [
      "Please choose a Repass pathway configuration:\n",
      "1: Original MVA Repass Pathway\n",
      "2: IPP-Repass Pathway\n"
     ]
    },
    {
     "name": "stdin",
     "output_type": "stream",
     "text": [
      "Enter 1 or 2:  2\n"
     ]
    },
    {
     "name": "stdout",
     "output_type": "stream",
     "text": [
      "You chose IPP-Repass Pathway\n"
     ]
    }
   ],
   "source": [
    "def get_user_choice():\n",
    "    print(\"Please choose a Repass pathway configuration:\")\n",
    "    print(\"1: Original MVA Repass Pathway\")\n",
    "    print(\"2: IPP-Repass Pathway\")\n",
    "\n",
    "    while True:\n",
    "        choice = input(\"Enter 1 or 2: \")\n",
    "        if choice == '1':\n",
    "            pathway = 1\n",
    "            return pathway, \"You chose Original MVA Repass Pathway\"\n",
    "        elif choice == '2':\n",
    "            pathway = 2\n",
    "            return pathway, \"You chose IPP-Repass Pathway\"\n",
    "        else:\n",
    "            print(\"Invalid input. Please enter 1 or 2.\")\n",
    "\n",
    "# Call the function and print the result\n",
    "pathway, result = get_user_choice()\n",
    "print(result)"
   ]
  },
  {
   "cell_type": "code",
   "execution_count": 4,
   "id": "8fee55d0-6e38-491e-b79f-4d51a670399a",
   "metadata": {
    "tags": []
   },
   "outputs": [
    {
     "name": "stdout",
     "output_type": "stream",
     "text": [
      "Running simulation 10000 times\n",
      "0.0  %\n"
     ]
    },
    {
     "name": "stderr",
     "output_type": "stream",
     "text": [
      "C:\\Users\\Carruthers\\AppData\\Local\\Temp\\ipykernel_28052\\960277054.py:86: ODEintWarning:\n",
      "\n",
      "Excess work done on this call (perhaps wrong Dfun type). Run with full_output = 1 to get quantitative information.\n",
      "\n"
     ]
    },
    {
     "name": "stdout",
     "output_type": "stream",
     "text": [
      "10.0  %\n",
      "20.0  %\n",
      "30.0  %\n",
      "40.0  %\n",
      "50.0  %\n",
      "60.0  %\n",
      "70.0  %\n",
      "80.0  %\n",
      "90.0  %\n",
      "Done\n"
     ]
    }
   ],
   "source": [
    "print(\"Running simulation {} times\".format(num_iterations))\n",
    "for j in range (0,num_iterations):\n",
    "    def model(y,t):\n",
    "        x1 = y[0]\n",
    "        x2 = y[1]\n",
    "        x3 = y[2]\n",
    "        x4 = y[3]\n",
    "        x5 = y[4]\n",
    "        x6 = y[5]\n",
    "        \n",
    "        x7=LHS[0,j]\n",
    "        x8=LHS[1,j]\n",
    "        x9=LHS[2,j]\n",
    "        x10=LHS[3,j]\n",
    "        x11=LHS[4,j]\n",
    "        x12=LHS[5,j]\n",
    "        x13=LHS[6,j]\n",
    "        x14=LHS[7,j]\n",
    "        \n",
    "        x15=LHS[8,j]\n",
    "        x16=LHS[9,j]\n",
    "        x17=LHS[10,j]\n",
    "        x18=LHS[11,j]\n",
    "        x19=LHS[12,j]\n",
    "        x20=LHS[13,j]\n",
    "        x21=LHS[14,j]\n",
    "        x22=LHS[15,j]\n",
    "        \n",
    "        # k3/k4 magnitude favors DMAPP>IPP by isomerase\n",
    "        # k7/k2 magntiude favors DMAP>IP by phosphatase\n",
    "        # k6/k1 magnitude favors DMAPP>IPP by kinase\n",
    "        # k8/K4 magnitude favors prenol>isoprenol\n",
    "        \n",
    "        k1 = x7/(x15+x1)  # IP -> IPP\n",
    "        k2 = x8/(x16+x3)  # IPP -> IP\n",
    "        k3 = x9/(x17+x4)  # DMAPP -> IPP\n",
    "        k4 = x10/(x18+x3) # IPP -> DMAPP\n",
    "\n",
    "        k5 = x11/(x19+x1) # IP -> Isoprenol\n",
    "        k6 = x12/(x20+x5) # DMAP -> DMAPP\n",
    "        k7 = x13/(x21+x4) # DMAPP -> DMAP\n",
    "        k8 = x14/(x22+x5) # DMAP -> Prenol\n",
    "\n",
    "        dy1dt=-k1*x1-k5*x1+k2*x3 #IP\n",
    "        dy2dt=k5*x1 #Isoprenol\n",
    "        dy3dt=k1*x1+k3*x4-k4*x3-k2*x3 #IPP\n",
    "        dy4dt=k4*x3+k6*x5-k3*x4-k7*x4 #DMAPP\n",
    "        dy5dt=k7*x4-k6*x5-k8*x5 #DMAP\n",
    "        dy6dt=k8*x5 #Prenol\n",
    "\n",
    "        dydt = [dy1dt,dy2dt,dy3dt,dy4dt,dy5dt,dy6dt]\n",
    "        return dydt\n",
    "    \n",
    "    if pathway ==1:\n",
    "        y0 = [0,0,10,0,0,0]\n",
    "    else:\n",
    "        y0 = [10,0,0,0,0,0]\n",
    "\n",
    "    n = 100\n",
    "    culture_time=150\n",
    "\n",
    "    # time points\n",
    "    t = np.linspace(0,culture_time,n)\n",
    "\n",
    "    # store solution\n",
    "    x1 = np.empty_like(t)\n",
    "    x2 = np.empty_like(t)\n",
    "    x3 = np.empty_like(t)\n",
    "    x4 = np.empty_like(t)\n",
    "    x5 = np.empty_like(t)\n",
    "    x6 = np.empty_like(t)\n",
    "\n",
    "    # record initial conditions\n",
    "    x1[0] = y0[0]\n",
    "    x2[0] = y0[1]\n",
    "    x3[0] = y0[2]\n",
    "    x4[0] = y0[3]\n",
    "    x5[0] = y0[4]\n",
    "    x6[0] = y0[5]\n",
    "\n",
    "    # solve ODE\n",
    "    for i in range(1,n):\n",
    "        # span for next time step\n",
    "        tspan = [t[i-1],t[i]]\n",
    "        # solve for next step\n",
    "        y = odeint(model,y0,tspan)\n",
    "        # store solution for plotting\n",
    "        x1[i] = y[1][0]\n",
    "        x2[i] = y[1][1]\n",
    "        x3[i] = y[1][2]\n",
    "        x4[i] = y[1][3]\n",
    "        x5[i] = y[1][4]\n",
    "        x6[i] = y[1][5]\n",
    "        \n",
    "        # next initial condition\n",
    "        y0 = y[1]\n",
    "        \n",
    "        ##enter in other results of interest\n",
    "        #results=[x2[n-1],x6[n-1], max(x1),np.mean(x3),max(x5),max(x4)]\n",
    "        results=[x2[n-1],x6[n-1]]\n",
    "\n",
    "    # plot results\n",
    "    results_list.append(results)\n",
    "    if j % (0.1*num_iterations) == 0:\n",
    "        percentj=100*(j/num_iterations)\n",
    "        print(percentj, \" %\")\n",
    "        \n",
    "print(\"Done\")"
   ]
  },
  {
   "cell_type": "markdown",
   "id": "c074c8b8-84f0-45bc-ae43-8fe1989d2fe2",
   "metadata": {},
   "source": [
    "##### Bifurcation of alcohols as a ratio of prenol to isoprenol (arb. units)"
   ]
  },
  {
   "cell_type": "code",
   "execution_count": 5,
   "id": "e68c27b6-b09f-4d32-9271-ddd7731d0be1",
   "metadata": {
    "tags": []
   },
   "outputs": [
    {
     "name": "stdout",
     "output_type": "stream",
     "text": [
      "Ratio of prenol to isoprenol across all LHS conditions: 0.3202063146859164\n",
      "Prenol as a fraction of total alcohols: 0.24254263225675834\n"
     ]
    }
   ],
   "source": [
    "column_index = 0  \n",
    "column_index2 = 1 \n",
    "\n",
    "column_values = [row[column_index] for row in results_list]\n",
    "column_values2 = [row[column_index2] for row in results_list]\n",
    "\n",
    "mean_value = sum(column_values) / len(column_values)\n",
    "mean_value2 = sum(column_values2) / len(column_values2)\n",
    "prenol_frac= mean_value2/(mean_value+mean_value2)\n",
    "ratio = mean_value2/mean_value\n",
    "print(f\"Ratio of prenol to isoprenol across all LHS conditions: {ratio}\")\n",
    "print(f\"Prenol as a fraction of total alcohols: {prenol_frac}\")"
   ]
  },
  {
   "cell_type": "markdown",
   "id": "6fa8175c-11ef-4562-a767-d4e0b9d4983d",
   "metadata": {
    "tags": []
   },
   "source": [
    "### Repass Sensitivity\n",
    "\n",
    "- Provides the Spearmans rank correlation coefficients and their associated p-values\n",
    "- Plots heatmaps and saving as .csv files"
   ]
  },
  {
   "cell_type": "code",
   "execution_count": 6,
   "id": "df2e0a3a-c7c4-45a8-b29a-5e650c9f807f",
   "metadata": {
    "tags": []
   },
   "outputs": [],
   "source": [
    "if pathway ==1:\n",
    "    fig='OriMVA-Repass_Sensitivity'\n",
    "else:\n",
    "    fig='IPP-Repass_Sensitivity'\n",
    "\n",
    "outputs_names=['Isoprenol','Prenol']\n",
    "inputs_names=['$k_{cat_{1}}^{*}$','$k_{cat_{2}}^{*}$','$k_{cat_{3}}^{*}$','$k_{cat_{4}}^{*}$',\n",
    "              '$k_{cat_{5}}^{*}$','$k_{cat_{6}}^{*}$','$k_{cat_{7}}^{*}$','$k_{cat_{8}}^{*}$',\n",
    "              '$K_{m_{1}}$','$K_{m_{2}}$','$K_{m_{3}}$','$K_{m_{4}}$','$K_{m_{5}}$','$K_{m_{6}}$','$K_{m_{7}}$','$K_{m_{8}}$']\n",
    "\n",
    "results_list_Repass=np.array(results_list)\n",
    "LHS=np.transpose(np.array(LHS))\n",
    "\n",
    "inputs=16\n",
    "outputs=2\n",
    "rho_list = []\n",
    "rho_list=np.zeros((inputs,outputs))\n",
    "pval_list=[]\n",
    "pval_list=np.zeros((inputs,outputs))\n",
    "\n",
    "for m in range(outputs):\n",
    "    for k in range(inputs):\n",
    "        rho_list[k,m],pval_list[k,m]=spearmanr(LHS[:,k],results_list_Repass[:,m], axis=1) \n",
    "        "
   ]
  },
  {
   "cell_type": "code",
   "execution_count": 7,
   "id": "af2b6fe9-9149-474d-80bb-8d31e44c2b1e",
   "metadata": {
    "tags": []
   },
   "outputs": [],
   "source": [
    "df_rho = pd.DataFrame(rho_list)\n",
    "df_pval = pd.DataFrame(pval_list)\n",
    "\n",
    "rho_path=f'{fig}_Rhos.csv'\n",
    "pval_path=f'{fig}_Pvals.csv'\n",
    "\n",
    "df_rho.to_csv(f'Figure_Export/{rho_path}', index=False, header=False)\n",
    "df_pval.to_csv(f'Figure_Export/{pval_path}', index=False, header=False)"
   ]
  },
  {
   "cell_type": "markdown",
   "id": "a31b55de-69cd-4f79-a231-7b3691d15f8c",
   "metadata": {},
   "source": [
    "#### Plotting a heatmap of Spearman rank correlation coefficient"
   ]
  },
  {
   "cell_type": "code",
   "execution_count": 8,
   "id": "90ecfc62-e13a-4840-8d57-941261c4bd79",
   "metadata": {
    "tags": []
   },
   "outputs": [
    {
     "data": {
      "image/png": "[encoded data removed]",
      "text/plain": [
       "<Figure size 150x500 with 2 Axes>"
      ]
     },
     "metadata": {},
     "output_type": "display_data"
    }
   ],
   "source": [
    "plt.figure(figsize=(1.5,5))\n",
    "vmin_value = -0.45  # Minimum value\n",
    "vmax_value = 0.45  # Maximum value\n",
    "\n",
    "p1 = sns.heatmap(rho_list, cmap='viridis',vmin=vmin_value, vmax=vmax_value,\n",
    "                 xticklabels=outputs_names, yticklabels=inputs_names, annot_kws={\"size\": 8,\"fontfamily\": \"Arial\"})\n",
    "# Annotate all values\n",
    "for i in range(len(inputs_names)):\n",
    "    for j in range(len(outputs_names)):\n",
    "        p1.text(j + 0.5, i + 0.5, f'{rho_list[i, j]:.2f}', ha='center', va='center', color='white',fontsize=8, fontfamily=\"Arial\")\n",
    "\n",
    "plt.yticks(rotation='horizontal')\n",
    "plt.title('Ori-Repass Pathway',pad=10)        \n",
    "        \n",
    "plt.tick_params(axis='x', which='both', bottom=False, top=False)\n",
    "plt.tick_params(axis='y', which='both', left=False, right=False)\n",
    "\n",
    "plt.savefig(f'Figure_Export/{fig}_Rhos.svg',dpi=1200, bbox_inches = 'tight')\n",
    "plt.show()"
   ]
  },
  {
   "cell_type": "markdown",
   "id": "5b86ada9-4fd6-4297-901e-f6335af14cfb",
   "metadata": {},
   "source": [
    "#### Plotting a heatmap of p-values"
   ]
  },
  {
   "cell_type": "code",
   "execution_count": 9,
   "id": "c056efea-c3f1-4c3b-b001-7a5c21915254",
   "metadata": {
    "tags": []
   },
   "outputs": [
    {
     "data": {
      "image/png": "[encoded data removed]",
      "text/plain": [
       "<Figure size 150x500 with 2 Axes>"
      ]
     },
     "metadata": {},
     "output_type": "display_data"
    }
   ],
   "source": [
    "plt.figure(figsize=(1.5,5))\n",
    "p2 = sns.heatmap(pval_list, cmap='viridis', xticklabels=outputs_names, yticklabels=inputs_names, \n",
    "                 annot_kws={\"size\": 8,\"fontfamily\": \"Arial\"})\n",
    "for i in range(len(inputs_names)):\n",
    "    for j in range(len(outputs_names)):\n",
    "        p2.text(j + 0.5, i + 0.5, f'{pval_list[i, j]:.1e}', ha='center', va='center', color='white',fontsize=8, fontfamily=\"Arial\")\n",
    "plt.yticks(rotation='horizontal')\n",
    "plt.title('Ori-Repass Pathway',pad=10)        \n",
    "        \n",
    "plt.tick_params(axis='x', which='both', bottom=False, top=False)\n",
    "plt.tick_params(axis='y', which='both', left=False, right=False)\n",
    "\n",
    "plt.savefig(f'Figure_Export/{fig}_Pvals.svg',dpi=1200, bbox_inches = 'tight')\n",
    "plt.show()"
   ]
  },
  {
   "cell_type": "markdown",
   "id": "1120a8a8-66a8-4827-ac06-01f6ff8f2276",
   "metadata": {
    "tags": []
   },
   "source": [
    "### Example plot of a selected pathway\n",
    "\n",
    "Here, an example pathway depicts profiles of given reaction productions. The pathway can be adjusted by manually defining the Vmx/Kmx values as well as changing the model to the IPP-Repass as follows:\n",
    "\n",
    "- Original MVA-Repass:\n",
    "    - fig='OriMVA'\n",
    "    - y0 = [0,0,10,0,0,0]\n",
    "- To change to IPP-Repass:\n",
    "    - fig='IPPRe'\n",
    "    - y0 = [10,0,0,0,0,0]\n",
    "- Parameters may be changed at will\n",
    "    "
   ]
  },
  {
   "cell_type": "code",
   "execution_count": 10,
   "id": "83a2c1d6-eab1-4c97-b7ad-1d92b015ffed",
   "metadata": {
    "tags": []
   },
   "outputs": [],
   "source": [
    "if pathway ==1:\n",
    "    fig='OriMVA-Repass_Example'\n",
    "    y0 = [0,0,10,0,0,0]\n",
    "else:\n",
    "    fig='IPP-Repass_Example'\n",
    "    y0 = [10,0,0,0,0,0]\n",
    "    \n",
    "#Define variables as x1, x2, x3, x4, x5, x6\n",
    "def model(y,t):\n",
    "    x1 = y[0]\n",
    "    x2 = y[1]\n",
    "    x3 = y[2]\n",
    "    x4 = y[3]\n",
    "    x5 = y[4]\n",
    "    x6 = y[5]\n",
    "    \n",
    "    k1 = Vm1/(Km1+x1) #IP to IPP\n",
    "    k2 = Vm2/(Km2+x3) #IPP to IP\n",
    "    k3 = Vm3/(Km3+x4) #IPP to DMAPP\n",
    "    k4 = Vm4/(Km4+x3) #DMAPP to IPP\n",
    "    k5 = Vm5/(Km5+x1) #IP to isoprenol\n",
    "    k6 = Vm6/(Km6+x5) #DMAP to DMAPP\n",
    "    k7 = Vm7/(Km7+x4) #DMAPP to DMAP\n",
    "    k8 = Vm8/(Km8+x5) #DMAP to prenol\n",
    "\n",
    "    dy1dt=-k1*x1-k5*x1+k2*x3 #IP\n",
    "    dy2dt=k5*x1 #Isoprenol\n",
    "    dy3dt=k1*x1+k3*x4-k4*x3-k2*x3 #IPP\n",
    "    dy4dt=k4*x3+k6*x5-k3*x4-k7*x4 #DMAPP\n",
    "    dy5dt=k7*x4-k6*x5-k8*x5 #DMAP\n",
    "    dy6dt=k8*x5 #Prenol\n",
    "\n",
    "    dydt = [dy1dt,dy2dt,dy3dt,dy4dt,dy5dt,dy6dt]\n",
    "    return dydt\n",
    "\n",
    "# initial condition\n",
    "   \n",
    "Vm1=10\n",
    "Vm2=10\n",
    "Vm3=20\n",
    "Vm4=20\n",
    "Vm5=10\n",
    "Vm6=10\n",
    "Vm7=10\n",
    "Vm8=10\n",
    "\n",
    "Km1=20\n",
    "Km2=20\n",
    "Km3=40\n",
    "Km4=40\n",
    "Km5=20\n",
    "Km6=200\n",
    "Km7=20\n",
    "Km8=200\n",
    "\n",
    "# number of time points\n",
    "n = 100\n",
    "\n",
    "# time points\n",
    "t = np.linspace(0,72,n)\n",
    "\n",
    "# store solution\n",
    "x1 = np.empty_like(t)\n",
    "x2 = np.empty_like(t)\n",
    "x3 = np.empty_like(t)\n",
    "x4 = np.empty_like(t)\n",
    "x5 = np.empty_like(t)\n",
    "x6 = np.empty_like(t)\n",
    "\n",
    "# record initial conditions\n",
    "x1[0] = y0[0]\n",
    "x2[0] = y0[1]\n",
    "x3[0] = y0[2]\n",
    "x4[0] = y0[3]\n",
    "x5[0] = y0[4]\n",
    "x6[0] = y0[5]\n",
    "\n",
    "# solve ODE\n",
    "for i in range(1,n):\n",
    "    # span for next time step\n",
    "    tspan = [t[i-1],t[i]]\n",
    "    # solve for next step\n",
    "    y = odeint(model,y0,tspan)\n",
    "    # store solution for plotting\n",
    "    x1[i] = y[1][0]\n",
    "    x2[i] = y[1][1]\n",
    "    x3[i] = y[1][2]\n",
    "    x4[i] = y[1][3]\n",
    "    x5[i] = y[1][4]\n",
    "    x6[i] = y[1][5]\n",
    "    # next initial condition\n",
    "    y0 = y[1]\n",
    "results=[x1[n-1],x2[n-1],x3[n-1],x4[n-1],x5[n-1],x6[n-1]]"
   ]
  },
  {
   "cell_type": "markdown",
   "id": "e81d5bfe-31af-4edb-bcb0-a7318bb430f1",
   "metadata": {},
   "source": [
    "#### Plotting and saving the figure\n",
    "\n",
    "- Parameters customized for publication quality figure\n",
    "- Color values set according to (https://davidmathlogic.com/colorblind)"
   ]
  },
  {
   "cell_type": "code",
   "execution_count": 11,
   "id": "7683431a-cfbb-4992-b721-fc79e385f356",
   "metadata": {
    "tags": []
   },
   "outputs": [
    {
     "data": {
      "image/png": "[encoded data removed]",
      "text/plain": [
       "<Figure size 300x200 with 1 Axes>"
      ]
     },
     "metadata": {},
     "output_type": "display_data"
    }
   ],
   "source": [
    "plt.figure(figsize=(3,2))\n",
    "color_values = ['#648FFF', '#785EF0', '#DC267F', '#FE6100', '#FFB000'] \n",
    "\n",
    "line_size=0.5\n",
    "custom_params = {\n",
    "    'axes.facecolor': 'white',\n",
    "    'axes.edgecolor': 'black',\n",
    "    'axes.grid': False,\n",
    "    'axes.axisbelow': 'line',\n",
    "    'axes.labelcolor': 'black',\n",
    "    'figure.facecolor': 'white',\n",
    "    \"axes.spines.right\": True, \n",
    "    \"axes.spines.bottom\": True,\n",
    "    'xtick.direction': 'inout',\n",
    "    'ytick.direction': 'in',\n",
    "    'xtick.bottom': True,\n",
    "    'xtick.minor.visible': False,\n",
    "    'xtick.major.bottom':  True,\n",
    "    'xtick.minor.bottom':  True,\n",
    "    'xtick.major.pad':     7,     # distance to major tick label in points#\n",
    "    'xtick.minor.pad':     3.4,     # distance to the minor tick label in points#\n",
    "    'xtick.major.size':    10,\n",
    "    'ytick.major.size':    4,\n",
    "    'xtick.major.width':   line_size,\n",
    "    'ytick.major.width':   line_size,\n",
    "    'axes.linewidth': line_size,\n",
    "    'xtick.minor.size':    2,\n",
    "    'pdf.fonttype': 42}\n",
    "\n",
    "sns.set_theme(style=\"ticks\", rc=custom_params, font=\"Arial\",font_scale=0.7)\n",
    "\n",
    "# plot results\n",
    "plt.plot(t,x1,color=color_values[0], linestyle=':',label='IP',linewidth=1.5)\n",
    "plt.plot(t,x2,color=color_values[0], linestyle='-',label='Isoprenol',linewidth=1.5)\n",
    "plt.plot(t,x3,color=color_values[0], linestyle='--',label='IPP',linewidth=1.5)\n",
    "plt.plot(t,x4,color=color_values[3], linestyle='--',label='DMAPP',linewidth=1.5)\n",
    "plt.plot(t,x5,color=color_values[3], linestyle=':',label='DMAP',linewidth=1.5)\n",
    "plt.plot(t,x6,color=color_values[3], linestyle='-',label='Prenol',linewidth=1.5)\n",
    "plt.ylabel('values')\n",
    "plt.xlabel('time')\n",
    "plt.legend(loc='upper left',bbox_to_anchor=(0.05, 0.99),fontsize=\"7\")\n",
    "plt.ylim(0,None)\n",
    "plt.xlim(0,72)\n",
    "#plt.title('IPK Recursion Kinetic Model')\n",
    "plt.xlabel('Time (arb. unit)', labelpad=10)\n",
    "plt.ylabel('Titer (arb. unit)', labelpad=10)\n",
    "\n",
    "plt.tick_params(axis='x', which='both', length=6) \n",
    "plt.xticks(range(0,80,12))\n",
    "              \n",
    "plt.savefig(f'Figure_Export/{fig}_Kinetic_Model.svg',dpi=1200, bbox_inches = 'tight')\n",
    "plt.show()"
   ]
  }
 ],
 "metadata": {
  "kernelspec": {
   "display_name": "Python 3 (ipykernel)",
   "language": "python",
   "name": "python3"
  },
  "language_info": {
   "codemirror_mode": {
    "name": "ipython",
    "version": 3
   },
   "file_extension": ".py",
   "mimetype": "text/x-python",
   "name": "python",
   "nbconvert_exporter": "python",
   "pygments_lexer": "ipython3",
   "version": "3.10.6"
  }
 },
 "nbformat": 4,
 "nbformat_minor": 5
}
